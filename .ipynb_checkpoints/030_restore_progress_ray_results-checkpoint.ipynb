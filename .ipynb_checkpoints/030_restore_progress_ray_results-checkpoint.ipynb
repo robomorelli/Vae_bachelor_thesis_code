{
 "cells": [
  {
   "cell_type": "code",
   "execution_count": 1,
   "metadata": {},
   "outputs": [],
   "source": [
    "import numpy as np\n",
    "\n",
    "import numpy\n",
    "import pandas as pd\n",
    "from pathlib import Path\n",
    "\n",
    "import json\n",
    "import os\n",
    "import shutil\n",
    "\n",
    "from config import * "
   ]
  },
  {
   "cell_type": "code",
   "execution_count": 2,
   "metadata": {},
   "outputs": [
    {
     "data": {
      "text/plain": [
       "['wh_3_feats']"
      ]
     },
     "execution_count": 2,
     "metadata": {},
     "output_type": "execute_result"
    }
   ],
   "source": [
    "try:\n",
    "    os.makedirs(ray_model_results)\n",
    "except:\n",
    "    pass\n",
    "\n",
    "path = os.listdir(ray_model_results)\n",
    "path"
   ]
  },
  {
   "cell_type": "code",
   "execution_count": 4,
   "metadata": {},
   "outputs": [],
   "source": [
    "num = 0\n",
    "names = os.listdir(ray_model_results + path[num])"
   ]
  },
  {
   "cell_type": "code",
   "execution_count": 5,
   "metadata": {},
   "outputs": [
    {
     "data": {
      "text/plain": [
       "['train_vae_2_act_fun=relu,batch_size=200,intermediate_dim=120,kernel_max_norm=500,latent_dim=3,lr=0.006,mct2=5,met=1,mt=2,weight_KL_2020-07-28_12-51-09rihnav9_',\n",
       " 'train_vae_1_act_fun=relu,batch_size=200,intermediate_dim=150,kernel_max_norm=500,latent_dim=3,lr=0.006,mct2=20,met=5,mt=1,weight_K_2020-07-28_12-43-0195om80ml',\n",
       " 'train_vae_0_act_fun=relu,batch_size=200,intermediate_dim=20,kernel_max_norm=100,latent_dim=3,lr=0.001,mct2=1,met=2,mt=5,weight_KL__2020-07-28_12-40-46j9iwdeiz',\n",
       " 'train_vae_3_act_fun=elu,batch_size=200,intermediate_dim=50,kernel_max_norm=200,latent_dim=3,lr=0.003,mct2=2,met=1,mt=1,weight_KL_l_2020-07-28_12-52-42pmazok2s',\n",
       " 'experiment_state-2020-07-28_12-40-46.json']"
      ]
     },
     "execution_count": 5,
     "metadata": {},
     "output_type": "execute_result"
    }
   ],
   "source": [
    "names"
   ]
  },
  {
   "cell_type": "code",
   "execution_count": 6,
   "metadata": {},
   "outputs": [],
   "source": [
    "###CHECK HOSTNAME\n",
    "weight_scan = True\n",
    "\n",
    "host = ray_model_results + path[num]\n",
    "\n",
    "row=[]\n",
    "total=[]\n",
    "exp_name = []\n",
    "header = True\n",
    "    \n",
    "for ix, n in enumerate(names):\n",
    "    try:\n",
    "        df = pd.read_csv(host +'/'+ n + '/progress.csv')\n",
    "        output_json = json.load(open(host +'/'+ n + '/params.json'))\n",
    "\n",
    "        row = []\n",
    "        # take the last row\n",
    "        row.extend(list(df.iloc[-1,:].values))\n",
    "        #take the configuration parameters\n",
    "        conf = []\n",
    "        cols = []\n",
    "        for k,v in output_json.items():\n",
    "            conf.append(v)\n",
    "            cols.append('config/' + k)\n",
    "        row.extend(conf)\n",
    "        #append the name\n",
    "        row.append('_'.join(n.split('_')[:3]))\n",
    "        cols = cols + ['num_train']\n",
    "\n",
    "        total.append(row)\n",
    "        if header:\n",
    "            #list all the columns in progress.csv (all the loss and training parameters)\n",
    "            columns = list(df.columns)\n",
    "            #add the configuration, these are all the parameters present in params.json\n",
    "\n",
    "            columns.extend(cols)\n",
    "            header = False\n",
    "    except:\n",
    "        pass"
   ]
  },
  {
   "cell_type": "code",
   "execution_count": 7,
   "metadata": {},
   "outputs": [],
   "source": [
    "analysis = pd.DataFrame(total, columns=columns)"
   ]
  },
  {
   "cell_type": "code",
   "execution_count": 8,
   "metadata": {},
   "outputs": [],
   "source": [
    "analysis.to_csv(ray_model_results + path[num] + '/tune_result_restored.csv')"
   ]
  },
  {
   "cell_type": "code",
   "execution_count": 9,
   "metadata": {},
   "outputs": [],
   "source": [
    "df = pd.read_csv(ray_model_results + path[num] + '/tune_result_restored.csv')"
   ]
  }
 ],
 "metadata": {
  "kernelspec": {
   "display_name": "Python 3",
   "language": "python",
   "name": "python3"
  },
  "language_info": {
   "codemirror_mode": {
    "name": "ipython",
    "version": 3
   },
   "file_extension": ".py",
   "mimetype": "text/x-python",
   "name": "python",
   "nbconvert_exporter": "python",
   "pygments_lexer": "ipython3",
   "version": "3.6.9"
  }
 },
 "nbformat": 4,
 "nbformat_minor": 4
}
