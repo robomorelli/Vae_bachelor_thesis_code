{
 "cells": [
  {
   "cell_type": "code",
   "execution_count": 1,
   "metadata": {},
   "outputs": [],
   "source": [
    "import numpy as np\n",
    "\n",
    "import numpy\n",
    "import pandas as pd\n",
    "from pathlib import Path\n",
    "\n",
    "import json\n",
    "import os\n",
    "import shutil\n",
    "\n",
    "from config import *"
   ]
  },
  {
   "cell_type": "markdown",
   "metadata": {},
   "source": [
    "# Model dependent"
   ]
  },
  {
   "cell_type": "code",
   "execution_count": 2,
   "metadata": {},
   "outputs": [
    {
     "name": "stdout",
     "output_type": "stream",
     "text": [
      "the dictionaries for the following signal injection will be updated: []\n"
     ]
    }
   ],
   "source": [
    "sig_names = os.listdir(model_dep_results_bump_multiple)\n",
    "print('the dictionaries for the following signal injection will be updated: {}'.format(sig_names))"
   ]
  },
  {
   "cell_type": "code",
   "execution_count": 16,
   "metadata": {},
   "outputs": [
    {
     "name": "stdout",
     "output_type": "stream",
     "text": [
      "the following models will be updated: ['bump_feat_0_1_2_3_4_5_6_7_ld_3', 'bump_feat_0_1_3_ld_3']\n",
      "the following models will be updated: ['bump_feat_0_1_3_ld_3']\n"
     ]
    }
   ],
   "source": [
    "for s_n in sig_names:\n",
    "    fold_names = os.listdir(model_dep_results_bump_multiple + '/' + s_n)\n",
    "    print('the following models will be updated: {}'.format(fold_names))"
   ]
  },
  {
   "cell_type": "code",
   "execution_count": 17,
   "metadata": {},
   "outputs": [
    {
     "name": "stdout",
     "output_type": "stream",
     "text": [
      "bump_feat_5_10_1_10_1_1_1_1\n",
      "model_results/model_dependent/bump_multiple_train//187_12/bump_feat_0_1_2_3_4_5_6_7_ld_3/bump_feat_5_10_1_10_1_1_1_1\n",
      "bump_weights_5_10_10\n",
      "model_results/model_dependent/bump_multiple_train//187_12/bump_feat_0_1_3_ld_3/bump_weights_5_10_10\n",
      "bump_weights_5_20_20_ld_3\n",
      "model_results/model_dependent/bump_multiple_train//187_12/bump_feat_0_1_3_ld_3/bump_weights_5_20_20_ld_3\n",
      "bump_weights\n",
      "model_results/model_dependent/bump_multiple_train//550_300/bump_feat_0_1_3_ld_3/bump_weights\n"
     ]
    }
   ],
   "source": [
    "for s_n in sig_names:\n",
    "    fold_names = os.listdir(model_dep_results_bump_multiple + '/' + s_n)\n",
    "    for fold_name in fold_names:  \n",
    "        fold_name_path = model_dep_results_bump_multiple + '/' + s_n + '/' + fold_name\n",
    "        weights_names = os.listdir(fold_name_path)\n",
    "\n",
    "        for weights_name in weights_names:  \n",
    "            print(weights_name)\n",
    "            path = fold_name_path + '/' + weights_name\n",
    "            filenames = os.listdir(path)\n",
    "            names_csv = [name  for name in filenames if name.split('.')[-1]=='csv']\n",
    "\n",
    "    #         ###CHECK HOSTNAME\n",
    "    #         host = directory\n",
    "            header = True\n",
    "            total = []\n",
    "\n",
    "            for ix, n in enumerate(names_csv):\n",
    "                if 'summary' not in n:\n",
    "                    df = pd.read_csv(path + '/' + n)\n",
    "\n",
    "                    val_loss = df['val_loss'].min()\n",
    "                    KL_loss = df['val_KL_loss'].min()\n",
    "    #                 metric =  df['val_RecoNLL_metric'].min()\n",
    "                    model_num = n.split('.')[0].split('_')[-1]\n",
    "                    epochs = len(df)\n",
    "\n",
    "                    total.append([val_loss,KL_loss, epochs, model_num])\n",
    "\n",
    "            columns = ['val_loss', 'val_KL_loss','epochs','model_num']\n",
    "            analysis = pd.DataFrame(total, columns=columns)\n",
    "\n",
    "            print(path)\n",
    "\n",
    "            analysis.to_csv(path  + '/' + 'result_summary.csv')"
   ]
  },
  {
   "cell_type": "code",
   "execution_count": 18,
   "metadata": {},
   "outputs": [],
   "source": [
    "df = pd.read_csv(model_dep_results_bump_multiple+'/187_12/bump_feat_0_1_3_ld_3/bump_weights_5_10_10/result_summary.csv')"
   ]
  },
  {
   "cell_type": "code",
   "execution_count": 19,
   "metadata": {},
   "outputs": [
    {
     "data": {
      "text/html": [
       "<div>\n",
       "<style scoped>\n",
       "    .dataframe tbody tr th:only-of-type {\n",
       "        vertical-align: middle;\n",
       "    }\n",
       "\n",
       "    .dataframe tbody tr th {\n",
       "        vertical-align: top;\n",
       "    }\n",
       "\n",
       "    .dataframe thead th {\n",
       "        text-align: right;\n",
       "    }\n",
       "</style>\n",
       "<table border=\"1\" class=\"dataframe\">\n",
       "  <thead>\n",
       "    <tr style=\"text-align: right;\">\n",
       "      <th></th>\n",
       "      <th>Unnamed: 0</th>\n",
       "      <th>val_loss</th>\n",
       "      <th>val_KL_loss</th>\n",
       "      <th>epochs</th>\n",
       "      <th>model_num</th>\n",
       "    </tr>\n",
       "  </thead>\n",
       "  <tbody>\n",
       "    <tr>\n",
       "      <th>0</th>\n",
       "      <td>0</td>\n",
       "      <td>34.795131</td>\n",
       "      <td>9.837368</td>\n",
       "      <td>189</td>\n",
       "      <td>0</td>\n",
       "    </tr>\n",
       "    <tr>\n",
       "      <th>1</th>\n",
       "      <td>1</td>\n",
       "      <td>20.325653</td>\n",
       "      <td>9.894406</td>\n",
       "      <td>304</td>\n",
       "      <td>1</td>\n",
       "    </tr>\n",
       "    <tr>\n",
       "      <th>2</th>\n",
       "      <td>2</td>\n",
       "      <td>18.497337</td>\n",
       "      <td>9.754567</td>\n",
       "      <td>350</td>\n",
       "      <td>2</td>\n",
       "    </tr>\n",
       "    <tr>\n",
       "      <th>3</th>\n",
       "      <td>3</td>\n",
       "      <td>21.303567</td>\n",
       "      <td>10.031470</td>\n",
       "      <td>269</td>\n",
       "      <td>3</td>\n",
       "    </tr>\n",
       "    <tr>\n",
       "      <th>4</th>\n",
       "      <td>4</td>\n",
       "      <td>12.495856</td>\n",
       "      <td>8.835800</td>\n",
       "      <td>395</td>\n",
       "      <td>4</td>\n",
       "    </tr>\n",
       "  </tbody>\n",
       "</table>\n",
       "</div>"
      ],
      "text/plain": [
       "   Unnamed: 0   val_loss  val_KL_loss  epochs  model_num\n",
       "0           0  34.795131     9.837368     189          0\n",
       "1           1  20.325653     9.894406     304          1\n",
       "2           2  18.497337     9.754567     350          2\n",
       "3           3  21.303567    10.031470     269          3\n",
       "4           4  12.495856     8.835800     395          4"
      ]
     },
     "execution_count": 19,
     "metadata": {},
     "output_type": "execute_result"
    }
   ],
   "source": [
    "df"
   ]
  },
  {
   "cell_type": "markdown",
   "metadata": {},
   "source": [
    "# Model Independent"
   ]
  },
  {
   "cell_type": "code",
   "execution_count": 2,
   "metadata": {},
   "outputs": [
    {
     "name": "stdout",
     "output_type": "stream",
     "text": [
      "the dictionaries for the following models will be updated: ['bump_feat_0_1_3_ld_3', 'bump_feat_0_1_2_3_4_5_6_7_ld_3', 'bump_feat_0_1_2_3_4_5_ld_3']\n"
     ]
    }
   ],
   "source": [
    "fold_names = os.listdir(model_results_bump_multiple)\n",
    "print('the dictionaries for the following models will be updated: {}'.format(fold_names))"
   ]
  },
  {
   "cell_type": "code",
   "execution_count": 3,
   "metadata": {},
   "outputs": [
    {
     "name": "stdout",
     "output_type": "stream",
     "text": [
      "bump_weights_10_5_5\n",
      "model_results/bump_multiple_train//bump_feat_0_1_3_ld_3/bump_weights_10_5_5\n",
      "bump_weights_10_20_1_20_1_1_1_1\n",
      "model_results/bump_multiple_train//bump_feat_0_1_2_3_4_5_6_7_ld_3/bump_weights_10_20_1_20_1_1_1_1\n",
      "bump_weights_1_1_1_1_1_1_1_1\n",
      "model_results/bump_multiple_train//bump_feat_0_1_2_3_4_5_6_7_ld_3/bump_weights_1_1_1_1_1_1_1_1\n",
      "bump_weights_8_15_1_15_1_1_1_1\n",
      "model_results/bump_multiple_train//bump_feat_0_1_2_3_4_5_6_7_ld_3/bump_weights_8_15_1_15_1_1_1_1\n",
      "bump_weights_5_10_1_10_1_1_1_1\n",
      "model_results/bump_multiple_train//bump_feat_0_1_2_3_4_5_6_7_ld_3/bump_weights_5_10_1_10_1_1_1_1\n",
      "bump_weights_10_20_1_20_1_1\n",
      "model_results/bump_multiple_train//bump_feat_0_1_2_3_4_5_ld_3/bump_weights_10_20_1_20_1_1\n"
     ]
    }
   ],
   "source": [
    "for fold_name in fold_names:  \n",
    "    fold_name_path = model_results_bump_multiple + '/' + fold_name\n",
    "    weights_names = os.listdir(fold_name_path)\n",
    "\n",
    "    for weights_name in weights_names:  \n",
    "        print(weights_name)\n",
    "        path = fold_name_path + '/' + weights_name\n",
    "        filenames = os.listdir(path)\n",
    "        names_csv = [name  for name in filenames if name.split('.')[-1]=='csv']\n",
    "\n",
    "#         ###CHECK HOSTNAME\n",
    "#         host = directory\n",
    "        header = True\n",
    "        total = []\n",
    "\n",
    "        for ix, n in enumerate(names_csv):\n",
    "            if 'summary' not in n:\n",
    "                df = pd.read_csv(path + '/' + n)\n",
    "\n",
    "                val_loss = df['val_loss'].min()\n",
    "                KL_loss = df['val_KL_loss'].min()\n",
    "#                 metric =  df['val_RecoNLL_metric'].min()\n",
    "                model_num = n.split('.')[0].split('_')[-1]\n",
    "                epochs = len(df)\n",
    "\n",
    "                total.append([val_loss,KL_loss, epochs, model_num])\n",
    "\n",
    "        columns = ['val_loss', 'val_KL_loss','epochs','model_num']\n",
    "        analysis = pd.DataFrame(total, columns=columns)\n",
    "\n",
    "        print(path)\n",
    "\n",
    "        analysis.to_csv(path  + '/' + 'result_summary.csv')"
   ]
  },
  {
   "cell_type": "code",
   "execution_count": 4,
   "metadata": {},
   "outputs": [],
   "source": [
    "df = pd.read_csv(model_results_bump_multiple+'/bump_feat_0_1_2_3_4_5_6_7_ld_3/bump_weights_5_10_1_10_1_1_1_1/result_summary.csv')"
   ]
  },
  {
   "cell_type": "code",
   "execution_count": 5,
   "metadata": {},
   "outputs": [
    {
     "data": {
      "text/html": [
       "<div>\n",
       "<style scoped>\n",
       "    .dataframe tbody tr th:only-of-type {\n",
       "        vertical-align: middle;\n",
       "    }\n",
       "\n",
       "    .dataframe tbody tr th {\n",
       "        vertical-align: top;\n",
       "    }\n",
       "\n",
       "    .dataframe thead th {\n",
       "        text-align: right;\n",
       "    }\n",
       "</style>\n",
       "<table border=\"1\" class=\"dataframe\">\n",
       "  <thead>\n",
       "    <tr style=\"text-align: right;\">\n",
       "      <th></th>\n",
       "      <th>Unnamed: 0</th>\n",
       "      <th>val_loss</th>\n",
       "      <th>val_KL_loss</th>\n",
       "      <th>epochs</th>\n",
       "      <th>model_num</th>\n",
       "    </tr>\n",
       "  </thead>\n",
       "  <tbody>\n",
       "    <tr>\n",
       "      <th>0</th>\n",
       "      <td>0</td>\n",
       "      <td>23.281276</td>\n",
       "      <td>8.748938</td>\n",
       "      <td>393</td>\n",
       "      <td>2</td>\n",
       "    </tr>\n",
       "    <tr>\n",
       "      <th>1</th>\n",
       "      <td>1</td>\n",
       "      <td>35.363653</td>\n",
       "      <td>7.962014</td>\n",
       "      <td>374</td>\n",
       "      <td>4</td>\n",
       "    </tr>\n",
       "    <tr>\n",
       "      <th>2</th>\n",
       "      <td>2</td>\n",
       "      <td>58.740581</td>\n",
       "      <td>9.909884</td>\n",
       "      <td>451</td>\n",
       "      <td>3</td>\n",
       "    </tr>\n",
       "    <tr>\n",
       "      <th>3</th>\n",
       "      <td>3</td>\n",
       "      <td>38.759339</td>\n",
       "      <td>9.019280</td>\n",
       "      <td>371</td>\n",
       "      <td>0</td>\n",
       "    </tr>\n",
       "    <tr>\n",
       "      <th>4</th>\n",
       "      <td>4</td>\n",
       "      <td>64.822332</td>\n",
       "      <td>9.642039</td>\n",
       "      <td>188</td>\n",
       "      <td>1</td>\n",
       "    </tr>\n",
       "  </tbody>\n",
       "</table>\n",
       "</div>"
      ],
      "text/plain": [
       "   Unnamed: 0   val_loss  val_KL_loss  epochs  model_num\n",
       "0           0  23.281276     8.748938     393          2\n",
       "1           1  35.363653     7.962014     374          4\n",
       "2           2  58.740581     9.909884     451          3\n",
       "3           3  38.759339     9.019280     371          0\n",
       "4           4  64.822332     9.642039     188          1"
      ]
     },
     "execution_count": 5,
     "metadata": {},
     "output_type": "execute_result"
    }
   ],
   "source": [
    "df"
   ]
  }
 ],
 "metadata": {
  "kernelspec": {
   "display_name": "Python 3",
   "language": "python",
   "name": "python3"
  },
  "language_info": {
   "codemirror_mode": {
    "name": "ipython",
    "version": 3
   },
   "file_extension": ".py",
   "mimetype": "text/x-python",
   "name": "python",
   "nbconvert_exporter": "python",
   "pygments_lexer": "ipython3",
   "version": "3.6.9"
  }
 },
 "nbformat": 4,
 "nbformat_minor": 4
}
